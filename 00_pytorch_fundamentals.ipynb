{
  "nbformat": 4,
  "nbformat_minor": 0,
  "metadata": {
    "colab": {
      "provenance": [],
      "authorship_tag": "ABX9TyNDMU6Y+szrlPa2uYUtrybt",
      "include_colab_link": true
    },
    "kernelspec": {
      "name": "python3",
      "display_name": "Python 3"
    },
    "language_info": {
      "name": "python"
    }
  },
  "cells": [
    {
      "cell_type": "markdown",
      "metadata": {
        "id": "view-in-github",
        "colab_type": "text"
      },
      "source": [
        "<a href=\"https://colab.research.google.com/github/ChristianGroessinger/pytorch/blob/main/00_pytorch_fundamentals.ipynb\" target=\"_parent\"><img src=\"https://colab.research.google.com/assets/colab-badge.svg\" alt=\"Open In Colab\"/></a>"
      ]
    },
    {
      "cell_type": "code",
      "execution_count": 2,
      "metadata": {
        "colab": {
          "base_uri": "https://localhost:8080/"
        },
        "id": "yLzmKchstnrw",
        "outputId": "efe886c0-24d3-4b7e-ca68-86f7b37391d8"
      },
      "outputs": [
        {
          "output_type": "stream",
          "name": "stdout",
          "text": [
            "2.1.0+cu118\n"
          ]
        }
      ],
      "source": [
        "import torch\n",
        "print(torch.__version__)"
      ]
    },
    {
      "cell_type": "code",
      "source": [
        "TENSOR = torch.tensor([[[1,1,2],[1,3,4],[1,5,6]],[[2,1,2],[2,3,4],[2,5,6]]])\n",
        "TENSOR.size(), TENSOR.shape"
      ],
      "metadata": {
        "colab": {
          "base_uri": "https://localhost:8080/"
        },
        "id": "IqoJFT0uw34x",
        "outputId": "5ec33fa0-117f-46b9-87a5-6fb1038be178"
      },
      "execution_count": 16,
      "outputs": [
        {
          "output_type": "execute_result",
          "data": {
            "text/plain": [
              "(torch.Size([2, 3, 3]), torch.Size([2, 3, 3]))"
            ]
          },
          "metadata": {},
          "execution_count": 16
        }
      ]
    },
    {
      "cell_type": "code",
      "source": [
        "x = TENSOR\n",
        "y = x.squeeze\n",
        "\n",
        "print(f\"Tensor : {x}\")\n",
        "print(f\"Tensor Shape: {x.shape}\")\n",
        "print(f\"Tensor neu: {x.mT}\")"
      ],
      "metadata": {
        "id": "315j8bAJKeKK",
        "outputId": "e9664a60-091c-4bc4-f369-2fba374403ce",
        "colab": {
          "base_uri": "https://localhost:8080/"
        }
      },
      "execution_count": 19,
      "outputs": [
        {
          "output_type": "stream",
          "name": "stdout",
          "text": [
            "Tensor : tensor([[[1, 1, 2],\n",
            "         [1, 3, 4],\n",
            "         [1, 5, 6]],\n",
            "\n",
            "        [[2, 1, 2],\n",
            "         [2, 3, 4],\n",
            "         [2, 5, 6]]])\n",
            "Tensor Shape: torch.Size([2, 3, 3])\n",
            "Tensor neu: tensor([[[1, 1, 1],\n",
            "         [1, 3, 5],\n",
            "         [2, 4, 6]],\n",
            "\n",
            "        [[2, 2, 2],\n",
            "         [1, 3, 5],\n",
            "         [2, 4, 6]]])\n"
          ]
        }
      ]
    },
    {
      "cell_type": "code",
      "source": [
        "one_to_ten =  torch.arange(start=1,end=11,step=1)\n",
        "one_to_ten\n",
        "ten_zeros = torch.ones_like(input=one_to_ten)\n",
        "ten_zeros"
      ],
      "metadata": {
        "colab": {
          "base_uri": "https://localhost:8080/"
        },
        "id": "FYnoKvwr2Ww9",
        "outputId": "c4c45504-5fee-47ce-a3d0-76acc3994890"
      },
      "execution_count": null,
      "outputs": [
        {
          "output_type": "execute_result",
          "data": {
            "text/plain": [
              "tensor([1, 1, 1, 1, 1, 1, 1, 1, 1, 1])"
            ]
          },
          "metadata": {},
          "execution_count": 20
        }
      ]
    }
  ]
}